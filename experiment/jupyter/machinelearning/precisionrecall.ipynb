{
 "cells": [
  {
   "cell_type": "markdown",
   "metadata": {},
   "source": [
    "# Precision and Recall\n",
    "\n",
    "In machine learning model, we have mentioned that, there is an important concept called metrics. However, for classifications problems, accuracy is one of the metrics. There are other important metrics.\n",
    "\n",
    "In this exercise, we will test our model with new metrics: Precision and Recall"
   ]
  },
  {
   "cell_type": "markdown",
   "metadata": {},
   "source": [
    "## Please answer Questions\n",
    "\n",
    "To help you understand precision and recall. Please answer questions below by searching and input your answers.\n",
    "\n",
    "* **Question 1: What is your understanding of these terms: true postive, false postive, true negative, false negative?**\n",
    "\n",
    "    * true positive - a true positive occurs when an outcome/observation is detected and that outcome/observation is present\n",
    "\n",
    "    * true negative - a true negative occurs when an outcome/observation is not detected and that outcome/observation is not present\n",
    "\n",
    "    * false positive - a false positive occurs when an outcome/observation is detected and that outcome/observation is not actually present\n",
    "\n",
    "    * false negative - a false negative occurs when an outcome/observation is not detected and that outcome/observation is actually present\n",
    "\n",
    "* **Question 2: What are the relationships between those terms and precision or recall?**\n",
    "\n",
    "* Please write down your answer by two simple mathematical equation\n",
    "\n",
    "    * precision - precision, also known as positive predictive value, is the proportion of positive predictions that are actually true. this can be represented by the equation:\n",
    "        * true positives / (true positives + false positives)\n",
    "    * recall - recall, also known as sensitivity or true positive rate, is the proportion of positive outcomes/observations that are correctly identified. this can be represented by the equation:\n",
    "        * true positives / (true positives + false negatives)\n",
    "\n",
    "\n",
    "** Answer:** Please double click the cell and input your answer here. "
   ]
  },
  {
   "cell_type": "code",
   "execution_count": 6,
   "metadata": {},
   "outputs": [],
   "source": [
    "#import key modules from scikit-learn and import numpy library\n",
    "\n",
    "from sklearn import svm, datasets\n",
    "from sklearn.model_selection import train_test_split\n",
    "import numpy as np"
   ]
  },
  {
   "cell_type": "markdown",
   "metadata": {},
   "source": [
    "## Below is an example for how to get precision of your model\n",
    "\n",
    "** Attention **: You need to finish one line of code to implement the whole example."
   ]
  },
  {
   "cell_type": "code",
   "execution_count": 23,
   "metadata": {},
   "outputs": [],
   "source": [
    "#Let's load iris data again\n",
    "\n",
    "#import iris dataset, set variables X, y to the independent and dependent variables\n",
    "iris = datasets.load_iris()\n",
    "X = iris.data\n",
    "y = iris.target"
   ]
  },
  {
   "cell_type": "code",
   "execution_count": 26,
   "metadata": {},
   "outputs": [
    {
     "data": {
      "text/plain": [
       "(150, 804)"
      ]
     },
     "execution_count": 26,
     "metadata": {},
     "output_type": "execute_result"
    }
   ],
   "source": [
    "#the data attribute of the iris dataset includes 150 samples, each sample has up to four features\n",
    "X.shape"
   ]
  },
  {
   "cell_type": "code",
   "execution_count": 25,
   "metadata": {},
   "outputs": [],
   "source": [
    "# Let's split the data to training and testing data.\n",
    "random_state = np.random.RandomState(0)\n",
    "n_samples, n_features = X.shape\n",
    "\n",
    "#the numpy function 'c_' (short for concatenate) combines together two separate numpy arrays\n",
    "#this next line of code takes the original data array held by the variable X and concatenates\n",
    "#another array of random numbers that has the shape (# of samples, 200 * # of features). \n",
    "#In this case we are concatenating an array of random numbers that is 150 by 800\n",
    "X = np.c_[X, random_state.randn(n_samples, 200 * n_features)]\n",
    "\n",
    "# Limit to the two first classes, and split into training and test\n",
    "X_train, X_test, y_train, y_test = train_test_split(X[y < 2], y[y < 2],\n",
    "                                                    test_size=.5,\n",
    "                                                    random_state=random_state)\n"
   ]
  },
  {
   "cell_type": "code",
   "execution_count": 27,
   "metadata": {},
   "outputs": [],
   "source": [
    "# Create a simple classifier\n",
    "classifier = svm.LinearSVC(random_state=random_state)"
   ]
  },
  {
   "cell_type": "code",
   "execution_count": 28,
   "metadata": {},
   "outputs": [
    {
     "data": {
      "text/plain": [
       "LinearSVC(C=1.0, class_weight=None, dual=True, fit_intercept=True,\n",
       "     intercept_scaling=1, loss='squared_hinge', max_iter=1000,\n",
       "     multi_class='ovr', penalty='l2',\n",
       "     random_state=<mtrand.RandomState object at 0x7f19f7041678>,\n",
       "     tol=0.0001, verbose=0)"
      ]
     },
     "execution_count": 28,
     "metadata": {},
     "output_type": "execute_result"
    }
   ],
   "source": [
    "# How could we fit the model? Please find your solutions from our example, and write down \n",
    "#your code to fit the svm model from training data.\n",
    "\n",
    "#fit using X_train and y_train\n",
    "classifier.fit(X_train, y_train)\n"
   ]
  },
  {
   "cell_type": "code",
   "execution_count": 35,
   "metadata": {},
   "outputs": [
    {
     "data": {
      "text/plain": [
       "array([[ -1.07331978e-02,  -4.24068527e-02,   6.73259276e-02,\n",
       "          2.89269882e-02,  -2.19487314e-02,   7.49967365e-03,\n",
       "          5.78062384e-03,   5.43868406e-03,   3.68080630e-03,\n",
       "         -3.37823169e-03,  -1.50985409e-02,  -1.59896708e-03,\n",
       "          6.38862284e-03,   6.36462127e-03,  -1.46830884e-03,\n",
       "          7.00417712e-03,   2.11050342e-03,   3.50091779e-03,\n",
       "         -2.46561543e-03,  -5.54884717e-03,   2.24128553e-03,\n",
       "         -1.15914309e-02,   4.84175037e-03,   6.98670700e-04,\n",
       "         -7.21057992e-03,  -7.89538117e-03,   8.66282729e-03,\n",
       "          4.35182240e-03,  -1.09848513e-02,  -1.24304196e-03,\n",
       "          1.32617521e-02,  -9.07481421e-03,  -6.95035728e-03,\n",
       "         -2.42384625e-03,   5.30471738e-03,   2.45606697e-02,\n",
       "          3.14166637e-03,   1.68367984e-04,  -9.06871325e-03,\n",
       "         -9.26279236e-03,   6.42655547e-03,  -7.91715884e-03,\n",
       "         -1.00650418e-03,   3.95504772e-03,   2.52583011e-03,\n",
       "          4.63991301e-03,  -6.59422808e-03,  -2.12015152e-02,\n",
       "         -5.32932322e-04,  -1.39574835e-02,   5.61542435e-03,\n",
       "         -5.25021759e-03,   1.08628765e-02,  -6.45621277e-03,\n",
       "          2.44825445e-04,   1.68135259e-02,   2.05222366e-02,\n",
       "          2.31365917e-02,   2.30294096e-02,   1.29949505e-02,\n",
       "         -8.95588594e-03,  -4.32078745e-03,  -7.14538174e-04,\n",
       "         -5.87693522e-03,  -6.19408019e-03,  -4.48198506e-03,\n",
       "         -1.20913213e-02,   1.17881392e-02,   3.26602410e-03,\n",
       "         -2.07356874e-03,  -3.43788688e-03,   2.18248133e-03,\n",
       "          3.64336105e-03,   3.90159162e-03,   2.36225435e-03,\n",
       "         -5.85263220e-03,   3.35173265e-03,   1.29051168e-02,\n",
       "          4.10660982e-03,  -1.51888495e-03,   4.46687074e-03,\n",
       "         -8.98151873e-03,  -2.02408396e-03,   1.44086904e-02,\n",
       "          7.33914100e-03,   1.90660699e-02,   2.58469376e-03,\n",
       "         -1.19959520e-02,  -1.04187845e-02,  -1.36279139e-02,\n",
       "         -1.40342712e-02,  -2.23649031e-03,   4.00386999e-03,\n",
       "          1.77003487e-02,   1.16939628e-02,  -1.60614682e-03,\n",
       "          1.55518398e-02,  -7.41096075e-03,   1.02345287e-02,\n",
       "         -9.89163273e-03,   1.38573075e-02,   8.75742548e-04,\n",
       "         -1.60631144e-02,   1.10515106e-02,   1.22624099e-02,\n",
       "          2.26792629e-03,  -2.43743410e-03,  -3.27994790e-03,\n",
       "          6.17588737e-03,  -1.41292745e-02,  -2.47085801e-03,\n",
       "         -1.78548465e-03,  -1.19212661e-02,  -1.50702329e-02,\n",
       "          8.46891792e-03,  -4.39746177e-03,   1.24721784e-02,\n",
       "          1.15734119e-02,   4.97986396e-04,   4.14513034e-03,\n",
       "         -2.92175715e-03,  -8.39099327e-03,  -5.23597088e-03,\n",
       "         -1.04045399e-02,  -6.41806744e-03,   6.49305490e-03,\n",
       "         -7.14099697e-03,  -5.72936446e-03,   1.40947508e-02,\n",
       "          7.87622008e-03,   6.00143275e-03,   6.78671904e-03,\n",
       "         -2.38141117e-03,  -6.38193906e-03,  -2.65634141e-04,\n",
       "          4.44796520e-03,  -1.29744169e-02,   2.28453278e-03,\n",
       "         -8.30734612e-03,   6.75510246e-03,  -1.63756521e-02,\n",
       "          7.96346657e-03,   4.79872170e-03,  -3.97599148e-03,\n",
       "          3.15040419e-05,   3.57954429e-03,   5.22347410e-03,\n",
       "         -1.39350170e-03,   1.10618817e-02,  -7.08973335e-03,\n",
       "         -4.11147697e-03,  -1.18599795e-02,  -4.21249950e-03,\n",
       "          6.46496989e-03,  -8.55531019e-04,  -2.02969355e-03,\n",
       "         -1.30339866e-02,   2.19474868e-02,   1.00315750e-03,\n",
       "         -9.78187705e-03,  -3.59355243e-03,   2.06549397e-03,\n",
       "         -3.29786560e-04,   8.63908292e-03,   6.33504931e-03,\n",
       "          5.72669987e-03,   1.27051870e-04,  -6.11377096e-04,\n",
       "          1.54209183e-02,  -1.34393196e-02,   2.73375233e-03,\n",
       "          3.87611210e-03,   6.61454684e-03,  -6.61275831e-03,\n",
       "         -1.69665333e-02,   5.63962734e-03,  -9.39071756e-03,\n",
       "         -3.58764734e-04,   5.53829018e-03,  -1.18297830e-03,\n",
       "          3.94552515e-03,  -5.25367882e-03,  -3.93833126e-03,\n",
       "          7.83284755e-03,  -1.03834443e-02,  -1.07908228e-02,\n",
       "         -6.84618814e-03,  -1.02367461e-03,   8.84633739e-03,\n",
       "         -1.97164205e-03,   1.53552064e-02,   1.09974495e-03,\n",
       "         -1.25347673e-02,  -2.05475308e-03,  -4.34719390e-03,\n",
       "          5.45971956e-03,  -1.31545076e-03,   8.93698158e-04,\n",
       "          1.20543535e-02,   1.55923282e-03,  -7.36915836e-03,\n",
       "         -3.77402739e-03,   6.89082400e-04,   6.25503690e-03,\n",
       "         -8.52583557e-03,   1.37304776e-02,   1.57544055e-03,\n",
       "          8.55724708e-03,   8.94072950e-03,   5.72576245e-05,\n",
       "          4.88814606e-03,  -1.12860583e-03,   1.29079178e-02,\n",
       "          1.59563526e-03,   5.75368983e-03,  -2.87545191e-03,\n",
       "         -1.77854271e-03,   2.11487766e-04,   7.82449452e-04,\n",
       "          3.73483918e-03,   9.24212982e-03,   2.75446859e-03,\n",
       "          7.91008005e-03,   3.44687868e-03,  -2.21371369e-03,\n",
       "          7.80717582e-03,   9.66924925e-03,   2.33253555e-03,\n",
       "          1.08943770e-02,   4.33326236e-03,  -4.69483464e-03,\n",
       "         -4.20060693e-04,  -1.05883029e-02,  -7.95711194e-03,\n",
       "          6.26366128e-03,   2.92598681e-03,   5.16984397e-03,\n",
       "         -2.83951787e-04,  -1.12150780e-03,   7.29460374e-03,\n",
       "          5.41313593e-03,   6.64494480e-03,   5.70879868e-04,\n",
       "         -8.20298797e-03,  -3.60377291e-03,  -3.09427661e-03,\n",
       "         -1.24134365e-03,   2.13694909e-03,   2.14022016e-03,\n",
       "         -9.10423258e-04,  -4.10411026e-04,   2.06170303e-03,\n",
       "         -8.31223480e-03,   8.67518014e-03,  -9.29391128e-03,\n",
       "         -1.45709568e-03,  -1.91703423e-02,  -2.10709785e-03,\n",
       "         -8.18427951e-03,  -8.08555139e-04,  -1.00825143e-03,\n",
       "          7.96163976e-03,  -1.07913696e-02,   1.35199933e-02,\n",
       "          1.62591913e-02,   5.56214335e-03,  -1.70486031e-03,\n",
       "         -1.15001095e-02,  -1.78865751e-03,  -9.29130589e-04,\n",
       "         -7.34806011e-03,   6.93401357e-03,  -2.11037255e-03,\n",
       "          7.20535739e-03,   5.17640399e-03,  -6.96079548e-03,\n",
       "         -3.17396706e-03,   1.63936035e-03,  -3.75275061e-03,\n",
       "         -7.52066600e-03,  -1.14863979e-02,  -9.03007103e-03,\n",
       "          5.96150379e-03,   2.37314274e-03,   1.96913233e-02,\n",
       "         -1.75791854e-02,   3.36006488e-03,  -5.60268439e-03,\n",
       "         -3.96341751e-03,  -1.04784006e-02,   4.98424406e-03,\n",
       "         -8.50231366e-03,  -1.11870858e-02,  -7.23901176e-03,\n",
       "          6.80702338e-03,  -5.45179130e-03,  -3.84165886e-04,\n",
       "         -4.91149758e-03,  -1.14764122e-02,  -1.02064358e-03,\n",
       "         -5.07121371e-03,  -1.02847221e-02,  -7.39335947e-03,\n",
       "         -1.06876330e-02,   5.90512193e-03,   2.73876738e-03,\n",
       "         -5.98295498e-04,   5.43216898e-03,   6.65456280e-03,\n",
       "          5.36158508e-03,  -2.26000790e-03,   5.12450587e-03,\n",
       "         -2.12660550e-02,   2.67977070e-03,  -2.88875258e-03,\n",
       "          1.41963253e-02,  -1.96207348e-03,   9.07370268e-03,\n",
       "         -3.58787203e-03,   3.42286599e-03,   3.59662569e-03,\n",
       "          1.45314894e-02,   7.20888801e-03,  -1.29904149e-02,\n",
       "          6.73375543e-04,  -2.51506210e-02,  -6.25499281e-03,\n",
       "          6.89697796e-03,   1.18441063e-02,  -4.54634354e-03,\n",
       "         -6.35626243e-03,   1.20487176e-03,   5.96117409e-03,\n",
       "         -1.24538458e-02,  -3.96191345e-03,   7.34362793e-03,\n",
       "          2.65873629e-02,   1.84772016e-02,  -1.16027954e-02,\n",
       "         -1.56454292e-02,  -5.90129105e-04,   6.58061454e-03,\n",
       "         -7.10682131e-03,  -1.47684972e-02,   6.62782692e-03,\n",
       "         -4.41231859e-03,   1.51186535e-02,   5.07407580e-03,\n",
       "          5.27350062e-03,   1.27842460e-02,   1.55129309e-02,\n",
       "          1.12076424e-03,  -1.14655708e-02,   5.52169242e-03,\n",
       "          9.01068045e-05,  -8.28557439e-03,   5.10310560e-03,\n",
       "         -8.65154227e-05,  -7.48493683e-03,   8.90735382e-03,\n",
       "          6.79778921e-03,  -5.63692459e-04,  -1.88214147e-02,\n",
       "          5.26325150e-03,   3.38565263e-03,  -4.00264128e-03,\n",
       "         -1.86639757e-02,  -3.25755150e-03,  -5.46057304e-04,\n",
       "          4.56103508e-03,  -4.43889634e-03,   6.47270703e-03,\n",
       "          7.62720975e-04,   4.66637992e-03,  -4.27067094e-03,\n",
       "          2.74666750e-03,  -7.67482490e-04,   7.05212826e-03,\n",
       "          1.23730926e-02,  -5.22462337e-03,  -1.04659754e-03,\n",
       "         -2.71474620e-04,   1.57364399e-02,   1.55945085e-02,\n",
       "         -5.88809067e-03,   5.17613472e-03,   1.27023312e-02,\n",
       "          7.25217123e-03,  -3.41908083e-03,   1.91643144e-03,\n",
       "          1.16311123e-03,  -7.67266216e-03,   8.39252173e-03,\n",
       "          1.53281908e-02,  -9.25709497e-03,   1.11238954e-02,\n",
       "         -3.36764439e-03,   1.61615589e-02,   9.86581273e-03,\n",
       "         -4.37102348e-03,   2.68929274e-03,  -1.22610115e-03,\n",
       "          6.75527194e-03,   6.41641433e-03,  -9.02494538e-03,\n",
       "         -6.44475940e-03,  -6.74219212e-03,  -1.14582773e-02,\n",
       "         -1.13266933e-02,   1.25064027e-02,  -2.56746024e-03,\n",
       "         -8.03954442e-03,   1.97779800e-03,  -1.05158447e-02,\n",
       "         -8.65278607e-03,   6.17337607e-03,   3.12067561e-03,\n",
       "          9.50297619e-04,   3.09425668e-03,  -1.34761579e-02,\n",
       "          1.10118825e-02,  -4.26789375e-05,   1.42723508e-03,\n",
       "         -1.40015922e-03,  -9.46780345e-04,  -5.69460043e-03,\n",
       "          4.66476111e-03,  -7.12930403e-03,   5.48528498e-03,\n",
       "          5.41768347e-03,   1.00578934e-02,  -1.90383614e-02,\n",
       "          1.30045603e-02,  -8.97993315e-06,  -1.94547597e-02,\n",
       "          1.06364034e-02,   1.45163457e-03,  -1.56601797e-03,\n",
       "          7.58900002e-03,   2.62828013e-03,   3.28983271e-03,\n",
       "          8.72995940e-03,   6.91819924e-05,   4.51689287e-03,\n",
       "          3.82954184e-03,   1.15564198e-02,  -7.17970153e-03,\n",
       "          9.31186405e-03,  -9.18567333e-04,   1.14772667e-03,\n",
       "         -1.98366648e-03,  -5.39572791e-03,   4.79947280e-03,\n",
       "         -1.63532205e-02,   6.83261210e-03,   1.52038535e-02,\n",
       "          3.15448167e-03,  -6.26020671e-03,   5.98112427e-03,\n",
       "         -5.26757733e-03,   1.53947788e-04,  -3.88522132e-03,\n",
       "          1.26376330e-02,   1.01255034e-03,   6.47180164e-04,\n",
       "          1.45701756e-03,  -5.80469152e-03,   3.85997875e-03,\n",
       "          1.16919875e-03,  -1.14743674e-02,   1.25678225e-02,\n",
       "         -4.45990185e-05,   9.37469634e-04,  -2.12560233e-03,\n",
       "         -4.99684820e-03,   7.36287269e-04,  -1.02840011e-02,\n",
       "         -1.28183929e-02,   1.28788165e-02,   6.63961159e-03,\n",
       "         -1.73391515e-02,   1.32302378e-02,  -4.13999811e-03,\n",
       "          5.74231396e-03,   1.01462170e-02,  -1.30594010e-02,\n",
       "          5.53896515e-03,   5.48133321e-03,  -7.04287883e-03,\n",
       "         -2.21775664e-03,  -1.15342338e-02,   1.41821423e-02,\n",
       "         -5.32301043e-03,   2.11950740e-03,   7.15045081e-03,\n",
       "          2.81741045e-03,  -7.09833626e-03,  -1.72607943e-02,\n",
       "         -3.76660933e-03,  -3.95391464e-03,  -6.55507525e-03,\n",
       "         -2.48464819e-02,  -9.25686072e-03,   1.90972844e-03,\n",
       "         -3.34805766e-03,   5.01886384e-03,  -1.26184543e-02,\n",
       "         -1.01542846e-02,   1.03741146e-02,  -1.05413548e-02,\n",
       "         -3.68771369e-03,  -7.63672947e-04,  -6.46154629e-03,\n",
       "          5.75020788e-03,  -1.16049271e-02,  -5.89731436e-03,\n",
       "          4.88379892e-03,   1.29473427e-02,   2.61662099e-03,\n",
       "          1.74036399e-03,   2.44304569e-03,  -7.57464203e-03,\n",
       "          2.94490386e-03,  -4.71916828e-03,   6.92041169e-03,\n",
       "          4.36099557e-03,   1.36766313e-03,   8.72973451e-03,\n",
       "          1.37864533e-02,   6.89918031e-03,  -7.58861381e-03,\n",
       "         -2.66931143e-05,   1.22692509e-03,   1.35818591e-04,\n",
       "         -3.15509981e-04,  -2.80344983e-03,  -1.28842721e-03,\n",
       "          4.77335432e-03,  -1.64169792e-02,   1.55591709e-03,\n",
       "          7.69078213e-03,  -7.97085986e-03,  -5.15624263e-03,\n",
       "          1.44430365e-02,   4.17022103e-03,   2.51657548e-03,\n",
       "          2.61911181e-04,   6.22045716e-03,   5.71099266e-03,\n",
       "          1.37078716e-02,   1.67701362e-03,  -2.81818416e-03,\n",
       "          7.68597859e-03,  -2.03032386e-02,   8.55120418e-03,\n",
       "         -9.22525558e-03,   4.57163249e-03,  -1.43244227e-03,\n",
       "         -8.12135744e-03,  -7.78832431e-03,  -1.41177715e-02,\n",
       "          7.62736729e-03,   1.22380843e-02,   5.37338687e-03,\n",
       "         -9.74737535e-03,   3.27769782e-03,   6.06574511e-03,\n",
       "          4.16366743e-03,  -6.17836643e-03,  -3.42478723e-03,\n",
       "          6.01335482e-03,  -9.81675981e-04,   4.55887800e-03,\n",
       "         -3.83883371e-03,   1.03713373e-03,   9.18604716e-03,\n",
       "         -2.55659671e-04,  -3.81627447e-03,   8.91568669e-03,\n",
       "         -1.36733130e-02,   2.66846913e-03,  -5.76361098e-03,\n",
       "          1.04899477e-02,   7.81834543e-03,   3.11618718e-03,\n",
       "         -1.44105301e-02,   8.91592938e-03,   1.20047151e-02,\n",
       "          6.18416376e-04,  -1.01049170e-02,  -5.82330505e-03,\n",
       "          9.90681985e-03,   1.58486263e-02,  -1.35408579e-03,\n",
       "         -1.41523449e-03,  -1.32671752e-02,  -6.81070784e-04,\n",
       "         -8.03479732e-03,   1.29217023e-05,  -1.38709556e-02,\n",
       "         -5.21593281e-03,   8.43803378e-03,   1.22292742e-02,\n",
       "         -1.17596845e-02,  -6.20869549e-03,  -5.72611572e-03,\n",
       "          1.16959471e-02,  -1.20299884e-02,  -9.85996958e-03,\n",
       "         -8.67629710e-03,  -7.48013056e-04,   4.06866650e-03,\n",
       "         -4.98383318e-03,  -1.14905653e-02,  -8.56928548e-04,\n",
       "          1.13033770e-02,   7.90355963e-03,   4.08923755e-04,\n",
       "         -4.53424895e-03,   6.00165219e-03,   3.60422848e-04,\n",
       "          4.34425845e-03,   1.08345478e-02,  -2.66872171e-04,\n",
       "          1.59844491e-04,   1.65970168e-02,   1.28465707e-02,\n",
       "          3.40513126e-03,  -8.37069637e-03,   1.83018132e-03,\n",
       "          8.53552798e-03,  -1.37719537e-03,  -6.55508221e-03,\n",
       "          8.07080589e-03,  -7.15917227e-03,   1.18029486e-02,\n",
       "          1.36353217e-02,  -1.15093256e-02,  -1.80770314e-03,\n",
       "          6.15717331e-03,  -2.72578391e-03,   1.11708294e-02,\n",
       "          1.16616759e-02,  -9.10830342e-04,   4.38546453e-03,\n",
       "          9.72768506e-03,  -1.25944902e-02,   6.96153418e-04,\n",
       "          2.70016016e-03,  -6.88043763e-03,   1.20845257e-02,\n",
       "         -1.59266406e-02,   1.08839813e-02,  -1.14742953e-02,\n",
       "         -2.22682569e-02,  -1.46583010e-02,  -7.83618063e-03,\n",
       "         -7.34114280e-04,   1.16416334e-02,   1.35467738e-02,\n",
       "         -8.07982137e-03,   4.62256872e-03,   1.39853950e-02,\n",
       "          3.29668871e-03,   2.98182457e-03,  -1.12394405e-02,\n",
       "          5.95904033e-03,  -8.97309652e-03,   1.34496621e-02,\n",
       "         -1.52321222e-03,   6.79845917e-04,  -1.32575161e-02,\n",
       "          2.90962076e-03,   6.68316974e-04,  -6.63469757e-03,\n",
       "          3.30913205e-06,   4.50846144e-03,   9.02089817e-03,\n",
       "         -5.90780468e-03,  -3.92659649e-03,   8.83775246e-03,\n",
       "         -5.18069822e-03,   6.12065591e-03,   2.96283782e-03,\n",
       "         -5.84820809e-03,   4.48522959e-04,   8.22672302e-03,\n",
       "          1.13924266e-03,   2.86348636e-03,   1.31739094e-02,\n",
       "         -2.34005377e-03,  -6.42662437e-03,   6.56524147e-03,\n",
       "          2.87081855e-03,   1.35768250e-02,  -2.66938231e-04,\n",
       "         -9.94389733e-03,  -8.02640699e-03,  -1.11885062e-03,\n",
       "         -7.10209758e-03,   6.72698970e-03,   5.77181486e-03,\n",
       "          7.36405478e-03,  -2.66488593e-03,   2.44312248e-03,\n",
       "          6.22510729e-04,   1.94913704e-03,  -6.75645142e-03,\n",
       "          8.50809095e-03,   1.40769753e-02,   1.33691781e-03,\n",
       "          1.01089939e-02,  -6.84272354e-03,   7.74701167e-03,\n",
       "         -8.79819819e-03,  -8.50424852e-03,  -5.76640315e-03,\n",
       "          8.24662058e-03,   2.79496453e-04,  -8.85563187e-04,\n",
       "         -1.88883586e-03,  -4.36899612e-03,   1.10486912e-02,\n",
       "         -5.44819927e-03,   9.03423679e-06,  -2.21315504e-02,\n",
       "         -1.48500497e-03,   2.17511754e-03,   5.94724119e-03,\n",
       "         -1.30748992e-03,   1.09495783e-02,  -1.00844090e-02,\n",
       "         -3.05583106e-04,   1.05590174e-03,   3.44211899e-03,\n",
       "          1.33253959e-04,  -1.36030453e-02,   2.49502608e-03,\n",
       "          1.92768604e-02,  -5.17441003e-03,  -6.75672648e-03,\n",
       "          2.20113042e-04,  -3.01927957e-03,   9.06530467e-03,\n",
       "          2.30352928e-04,  -1.04415666e-02,  -1.50660642e-03,\n",
       "          1.10181308e-02,  -3.91250174e-03,  -9.88815465e-04,\n",
       "         -3.22949209e-03,   8.84914147e-03,   4.05838911e-03,\n",
       "         -6.88611441e-03,  -9.71046632e-04,  -6.98589997e-03,\n",
       "          1.20302709e-02,  -4.45634736e-03,  -7.41772334e-04,\n",
       "         -4.23524223e-03,   8.07399824e-04,  -7.36520279e-03,\n",
       "         -1.41622744e-02,   1.09458048e-02,   2.62724305e-03,\n",
       "          9.63621781e-03,  -3.56493395e-03,  -3.42753032e-03,\n",
       "         -2.15865589e-02,  -1.34489720e-02,  -1.48817533e-02,\n",
       "          4.42635986e-03,   3.07313437e-04,  -2.41404469e-03,\n",
       "         -1.71253729e-02,   5.18456678e-03,   5.94283270e-03,\n",
       "         -3.31373485e-03,  -4.95803867e-04,  -2.49710687e-03,\n",
       "          6.44894923e-03,   1.06229704e-03,   3.35612722e-03,\n",
       "          1.39325980e-02,  -2.84903509e-03,   1.18050300e-02,\n",
       "          1.13564111e-02,  -4.33231845e-03,   9.48645648e-03,\n",
       "         -6.20965779e-03,   4.94544079e-03,   6.54862567e-04,\n",
       "         -6.08522086e-03,  -6.19963191e-04,  -1.25729538e-03,\n",
       "          5.62168398e-04,   5.33753848e-03,   1.74684854e-03,\n",
       "          5.93316885e-03,  -2.71131579e-04,  -6.40380590e-03,\n",
       "          7.06815260e-05,  -1.51604200e-03,   4.03777931e-04]])"
      ]
     },
     "execution_count": 35,
     "metadata": {},
     "output_type": "execute_result"
    }
   ],
   "source": [
    "classifier.coef_"
   ]
  },
  {
   "cell_type": "code",
   "execution_count": 37,
   "metadata": {},
   "outputs": [],
   "source": [
    "# After you have fit the model, then we make predicions.\n",
    "# decision_function measure the distance of each test example from the hyperplane separating \n",
    "# the two classes. the sign of the value indicates which side of the hyperplane the prediction\n",
    "# for a sample is on\n",
    "\n",
    "y_score = classifier.decision_function(X_test)"
   ]
  },
  {
   "cell_type": "code",
   "execution_count": 38,
   "metadata": {},
   "outputs": [
    {
     "data": {
      "text/plain": [
       "(50,)"
      ]
     },
     "execution_count": 38,
     "metadata": {},
     "output_type": "execute_result"
    }
   ],
   "source": [
    "#y_score is a 1 * X_test.shape array. with a test size of .5 and a limit on the dataset such \n",
    "#that we only look at 2 of the three classes and only 100 of the 150 samples, that make y_score \n",
    "#a 1 by 50 array\n",
    "y_score.shape"
   ]
  },
  {
   "cell_type": "code",
   "execution_count": 39,
   "metadata": {},
   "outputs": [
    {
     "data": {
      "text/plain": [
       "array([-0.20078869,  0.30423874,  0.20105976,  0.27523711,  0.42593404,\n",
       "       -0.15043726, -0.08794601, -0.12733462,  0.22931596, -0.23913518,\n",
       "       -0.06386267, -0.14958466, -0.04914839,  0.09898417,  0.0515638 ,\n",
       "       -0.1142941 ,  0.18899737,  0.04871897, -0.08258102, -0.26105668,\n",
       "        0.24693291, -0.18318328, -0.38384994,  0.26336904,  0.12585371,\n",
       "       -0.03991278,  0.39424539,  0.42411536, -0.4790443 , -0.30529061,\n",
       "       -0.09281931,  0.01213433, -0.20204098,  0.40148935, -0.04536122,\n",
       "        0.12179099,  0.06493837, -0.07007139,  0.0032915 , -0.39635676,\n",
       "        0.02619439,  0.20018683,  0.065023  ,  0.49589616, -0.28221895,\n",
       "        0.31364573,  0.1906223 ,  0.11549516,  0.03145977,  0.22408591])"
      ]
     },
     "execution_count": 39,
     "metadata": {},
     "output_type": "execute_result"
    }
   ],
   "source": [
    "# each number corresponds to the distance that the test example is from the hyperplane. the \n",
    "# bigger the number the further away it is\n",
    "# the sign indicates which side of the hyperplane it's on\n",
    "y_score"
   ]
  },
  {
   "cell_type": "code",
   "execution_count": 43,
   "metadata": {},
   "outputs": [],
   "source": [
    "# returns a 1 or a 0 to indicate which class the classifier believes each training example belongs\n",
    "\n",
    "y_predict = classifier.predict(X_test)"
   ]
  },
  {
   "cell_type": "code",
   "execution_count": 41,
   "metadata": {},
   "outputs": [
    {
     "data": {
      "text/plain": [
       "(50,)"
      ]
     },
     "execution_count": 41,
     "metadata": {},
     "output_type": "execute_result"
    }
   ],
   "source": [
    "y_predict.shape"
   ]
  },
  {
   "cell_type": "code",
   "execution_count": 42,
   "metadata": {},
   "outputs": [
    {
     "data": {
      "text/plain": [
       "array([0, 1, 1, 1, 1, 0, 0, 0, 1, 0, 0, 0, 0, 1, 1, 0, 1, 1, 0, 0, 1, 0, 0,\n",
       "       1, 1, 0, 1, 1, 0, 0, 0, 1, 0, 1, 0, 1, 1, 0, 1, 0, 1, 1, 1, 1, 0, 1,\n",
       "       1, 1, 1, 1])"
      ]
     },
     "execution_count": 42,
     "metadata": {},
     "output_type": "execute_result"
    }
   ],
   "source": [
    "# class predictions. the 0's have the same index as the negative numbers in the y_score variable\n",
    "y_predict"
   ]
  },
  {
   "cell_type": "code",
   "execution_count": 46,
   "metadata": {},
   "outputs": [
    {
     "data": {
      "text/plain": [
       "array([1, 1, 1, 1, 1, 0, 1, 0, 1, 0, 0, 1, 0, 0, 1, 0, 0, 0, 1, 0, 1, 0, 0,\n",
       "       1, 1, 1, 1, 1, 0, 0, 0, 1, 0, 1, 0, 1, 0, 0, 0, 0, 1, 1, 1, 1, 0, 1,\n",
       "       1, 0, 1, 0])"
      ]
     },
     "execution_count": 46,
     "metadata": {},
     "output_type": "execute_result"
    }
   ],
   "source": [
    "y_test"
   ]
  },
  {
   "cell_type": "code",
   "execution_count": 49,
   "metadata": {},
   "outputs": [
    {
     "data": {
      "text/plain": [
       "array([-1,  0,  0,  0,  0,  0, -1,  0,  0,  0,  0, -1,  0,  1,  0,  0,  1,\n",
       "        1, -1,  0,  0,  0,  0,  0,  0, -1,  0,  0,  0,  0,  0,  0,  0,  0,\n",
       "        0,  0,  1,  0,  1,  0,  0,  0,  0,  0,  0,  0,  0,  1,  0,  1])"
      ]
     },
     "execution_count": 49,
     "metadata": {},
     "output_type": "execute_result"
    }
   ],
   "source": [
    "y_predict - y_test"
   ]
  },
  {
   "cell_type": "markdown",
   "metadata": {},
   "source": [
    "## Get the average precision score, Run the cell below"
   ]
  },
  {
   "cell_type": "code",
   "execution_count": 44,
   "metadata": {},
   "outputs": [],
   "source": [
    "from sklearn.metrics import average_precision_score\n",
    "average_precision = average_precision_score(y_test, y_score)"
   ]
  },
  {
   "cell_type": "code",
   "execution_count": 47,
   "metadata": {},
   "outputs": [
    {
     "name": "stdout",
     "output_type": "stream",
     "text": [
      "Average precision-recall score: 0.88\n"
     ]
    }
   ],
   "source": [
    "# this compares the y_score variables with the true y_test labels and returns the recall value\n",
    "\n",
    "print('Average precision-recall score: {0:0.2f}'.format(\n",
    "      average_precision))"
   ]
  }
 ],
 "metadata": {
  "kernelspec": {
   "display_name": "Python 3",
   "language": "python",
   "name": "python3"
  },
  "language_info": {
   "codemirror_mode": {
    "name": "ipython",
    "version": 3
   },
   "file_extension": ".py",
   "mimetype": "text/x-python",
   "name": "python",
   "nbconvert_exporter": "python",
   "pygments_lexer": "ipython3",
   "version": "3.6.2"
  }
 },
 "nbformat": 4,
 "nbformat_minor": 2
}
